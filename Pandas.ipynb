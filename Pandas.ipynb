{
  "nbformat": 4,
  "nbformat_minor": 0,
  "metadata": {
    "colab": {
      "provenance": []
    },
    "kernelspec": {
      "name": "python3",
      "display_name": "Python 3"
    },
    "language_info": {
      "name": "python"
    }
  },
  "cells": [
    {
      "cell_type": "code",
      "execution_count": null,
      "metadata": {
        "id": "oQvjPW9Lu7Ww"
      },
      "outputs": [],
      "source": [
        "import pandas as pd\n",
        "\n",
        "# Load the dataset\n",
        "url = \"https://raw.githubusercontent.com/data-bootcamp-v4/data/main/file1.csv\"\n",
        "data = pd.read_csv(url)\n",
        "\n",
        "# Challenge 1: Understanding the data\n",
        "\n",
        "# Step 1: Identify dimensions\n",
        "dimensions = data.shape\n",
        "print(\"Dimensions of the dataset:\", dimensions)\n",
        "\n",
        "# Step 2: Determine data types\n",
        "data_types = data.dtypes\n",
        "print(\"Data types of each column:\\n\", data_types)\n",
        "\n",
        "# Suggestion for fixing data types if needed\n",
        "# Example: data['Customer Lifetime Value'] = data['Customer Lifetime Value'].astype(float)\n",
        "\n",
        "# Step 3: Unique values and identifying categorical columns\n",
        "unique_values = {col: data[col].nunique() for col in data.columns}\n",
        "print(\"Number of unique values per column:\\n\", unique_values)\n",
        "\n",
        "categorical_columns = data.select_dtypes(include=['object']).columns\n",
        "print(\"Categorical columns:\", categorical_columns)\n",
        "\n",
        "# Describe unique values of each categorical column\n",
        "for col in categorical_columns:\n",
        "    print(f\"Unique values in {col}:\\n\", data[col].unique())\n",
        "\n",
        "# Range of values for numerical columns\n",
        "numerical_columns = data.select_dtypes(include=['float64', 'int64']).columns\n",
        "print(\"Range of values for numerical columns:\")\n",
        "for col in numerical_columns:\n",
        "    print(f\"{col}: Min {data[col].min()}, Max {data[col].max()}\")\n",
        "\n",
        "# Step 4: Summary statistics for numerical columns\n",
        "summary_statistics = data[numerical_columns].describe()\n",
        "print(\"Summary statistics for numerical columns:\\n\", summary_statistics)\n",
        "\n",
        "# Step 5: Summary statistics for categorical columns\n",
        "categorical_summary = data[categorical_columns].describe()\n",
        "print(\"Summary statistics for categorical columns:\\n\", categorical_summary)\n",
        "\n",
        "# Challenge 2: Analyzing the data\n",
        "\n",
        "# Exercise 1: Top 5 less common customer locations\n",
        "less_common_locations = data['ST'].value_counts(ascending=True)\n",
        "top_5_less_common_locations = less_common_locations.head(5)\n",
        "print(\"Top 5 less common customer locations:\\n\", top_5_less_common_locations)\n",
        "\n",
        "# Exercise 2: Total number of policies sold for each type of policy\n",
        "policies_sold = data['Policy Type'].value_counts()\n",
        "highest_policy_type = policies_sold.idxmax(), policies_sold.max()\n",
        "print(\"Policy type with the highest number of policies sold:\", highest_policy_type)\n",
        "\n",
        "# Exercise 3: Comparison of average income between policy types\n",
        "personal_auto = data.loc[data['Policy Type'] == 'Personal Auto']\n",
        "corporate_auto = data.loc[data['Policy Type'] == 'Corporate Auto']\n",
        "\n",
        "average_income_personal_auto = personal_auto['Income'].mean()\n",
        "average_income_corporate_auto = corporate_auto['Income'].mean()\n",
        "\n",
        "print(f\"Average income for Personal Auto: {average_income_personal_auto}\")\n",
        "print(f\"Average income for Corporate Auto: {average_income_corporate_auto}\")"
      ]
    }
  ]
}